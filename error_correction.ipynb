{
 "cells": [
  {
   "cell_type": "code",
   "execution_count": 178,
   "id": "47eaeb03-0c7a-4401-99f0-9f586e570292",
   "metadata": {},
   "outputs": [],
   "source": [
    "import numpy as np\n",
    "from hmm import forward, viterbi"
   ]
  },
  {
   "cell_type": "code",
   "execution_count": 258,
   "id": "40c04fb1-6a6c-40a4-8cc2-59fe610982aa",
   "metadata": {},
   "outputs": [],
   "source": [
    "# not working, wip"
   ]
  },
  {
   "cell_type": "code",
   "execution_count": 293,
   "id": "89eb8ec5-74e3-442b-933c-a21aa89b7605",
   "metadata": {},
   "outputs": [
    {
     "name": "stdout",
     "output_type": "stream",
     "text": [
      "Observation/State diff.: 49\n",
      "Bestpath/State diff.: 4\n",
      "92\n",
      "0.92\n",
      "4\n",
      "0.04\n"
     ]
    }
   ],
   "source": [
    "p = 0.9  # binary symmetric channel error prob \n",
    "\n",
    "A = np.array([\n",
    "    [.5, 0, .5, 0], \n",
    "    [.5, 0, .5, 0], \n",
    "    [0, .5, 0, .5], \n",
    "    [0, .5, 0, .5]])  # transition matrix\n",
    "\n",
    "B = np.array([\n",
    "    [(1-p)**2, (1-p)*p,  (1-p)*p,   p**2], \n",
    "    [(1-p)*p,  (1-p)**2, p**2,      (1-p)*p], \n",
    "    [(1-p)*p,  p**2,     (1-p)**2,  (1-p)*p], \n",
    "    [p**2,     (1-p)*p,  (1-p)*p,   (1-p)**2]])# emission matrix\n",
    "\n",
    "π = np.array([0.25, 0.25, 0.25, 0.25])  # initial probability distribution\n",
    "\n",
    "n_states = 50\n",
    "states = np.array([np.random.choice(range(4), p = π)], dtype = int)\n",
    "for state_idx in range(n_states-1):\n",
    "    states = np.hstack([states, np.random.choice(range(4), p = A[states[-1]])])\n",
    "    \n",
    "obs = np.array([], dtype = int)\n",
    "for obs_idx in range(n_states):\n",
    "    obs = np.hstack([obs, np.random.choice(range(4), p = B[states[obs_idx]])])\n",
    "    \n",
    "best_path, v, b = viterbi(obs, A, B, π)\n",
    "\n",
    "mapping = {i: f'{bin(i)[2:]}'.rjust(2, '0') for i in range(4)}\n",
    "binary_stream_tx = ''.join([mapping[s] for s in states])\n",
    "binary_stream_rx = ''.join([mapping[o] for o in obs])\n",
    "binary_stream_decoded = ''.join([mapping[s] for s in best_path])\n",
    "\n",
    "print(f'Observation/State diff.: {sum(states != obs)}')\n",
    "print(f'Bestpath/State diff.: {sum(states != best_path)}')\n",
    "\n",
    "errors = sum(i!=j for i, j in zip(binary_stream_tx, binary_stream_rx))\n",
    "error_rate = errors/len(binary_stream_rx)\n",
    "print(errors)\n",
    "print(error_rate)\n",
    "\n",
    "errors = sum(i!=j for i, j in zip(binary_stream_tx, binary_stream_decoded))\n",
    "error_rate = errors/len(binary_stream_decoded)\n",
    "print(errors)\n",
    "print(error_rate)"
   ]
  },
  {
   "cell_type": "code",
   "execution_count": null,
   "id": "645e69aa-688b-4e05-9071-42b835f0d9e0",
   "metadata": {},
   "outputs": [],
   "source": []
  }
 ],
 "metadata": {
  "kernelspec": {
   "display_name": "Python 3 (ipykernel)",
   "language": "python",
   "name": "python3"
  },
  "language_info": {
   "codemirror_mode": {
    "name": "ipython",
    "version": 3
   },
   "file_extension": ".py",
   "mimetype": "text/x-python",
   "name": "python",
   "nbconvert_exporter": "python",
   "pygments_lexer": "ipython3",
   "version": "3.9.12"
  }
 },
 "nbformat": 4,
 "nbformat_minor": 5
}
